{
 "cells": [
  {
   "cell_type": "markdown",
   "metadata": {},
   "source": [
    "<div style=\"display: flex; align-items: center;\">\n",
    "  <p style=\"font-family: 'American Typewriter', 'Courier New', Courier, 'Lucida Sans Typewriter', 'Lucida Typewriter', monospace; text-align: left; margin-right: auto; line-height: 1.2;\">\n",
    "    <font color='black'><strong>Procesamiento Digital de Señales</strong><br>David Ochoa Cruz<br>R6575-2023</font>\n",
    "  </p>\n",
    "  <img src=\"logo-utn-frba-electronica.svg\" alt=\"Logo UTN FRBA\" width=\"200\" height=\"40\" style=\"flex-shrink: 0; margin-left: 10px;\">\n",
    "</div>"
   ]
  },
  {
   "cell_type": "markdown",
   "metadata": {},
   "source": [
    "<p style=\"border: ridge white 2px; text-align: center;font-weight: italic; font-family: 'American Typewriter', 'Courier New', Courier, 'Lucida Sans Typewriter', 'Lucida Typewriter', monospace; font-size:30px; background-color:#2CD546\"><font color='white'>\n",
    "    <strong>TS2: Algoritmo para calcular la DFT</strong>\n",
    "</p>"
   ]
  },
  {
   "cell_type": "markdown",
   "metadata": {},
   "source": [
    "<!DOCTYPE html>\n",
    "<html>\n",
    "<head>\n",
    "<style>\n",
    "  /* Estilos CSS aquí */\n",
    "  body {\n",
    "    font-family: Arial, sans-serif;\n",
    "    background-color: white;\n",
    "    color: black;\n",
    "    margin: 20px;\n",
    "    padding: 20px;\n",
    "  }\n",
    "</style>\n",
    "</head>\n",
    "<body>\n",
    "<p style=\"font-family: 'American Typewriter', 'Courier New', Courier, 'Lucida Sans Typewriter', 'Lucida Typewriter', monospace;\">Desarrollar un algoritmo que calcule la transformada discreta de Fourier (DFT).</p>\n",
    "\n",
    "$$X[k] = \\sum_{n=0}^{N-1} x[n] \\cdot e^{-j2\\pi \\cdot \\frac{k \\cdot n}{N}}$$\n",
    "<p style=\"font-family: 'American Typewriter', 'Courier New', Courier, 'Lucida Sans Typewriter', 'Lucida Typewriter', monospace;\">Donde:</p>\n",
    "<ul>\n",
    "  <li style=\"font-family: 'American Typewriter', 'Courier New', Courier, 'Lucida Sans Typewriter', 'Lucida Typewriter', monospace;\">XX = mi_funcion_DFT( xx )</li>\n",
    "  <li style=\"font-family: 'American Typewriter', 'Courier New', Courier, 'Lucida Sans Typewriter', 'Lucida Typewriter', monospace;\">xx: señal a analizar, una matriz (Nx1) de números reales.</li>\n",
    "  <li style=\"font-family: 'American Typewriter', 'Courier New', Courier, 'Lucida Sans Typewriter', 'Lucida Typewriter', monospace;\">XX: DFT de xx, una matriz (Nx1) de números complejos..</li>\n",
    "</ul>\n",
    "<p style=\"font-family: 'American Typewriter', 'Courier New', Courier, 'Lucida Sans Typewriter', 'Lucida Typewriter', monospace;\"><strong>Ayudas:</strong></p>\n",
    "<br>\n",
    "<div style=\"text-align: center;\">\n",
    "  <iframe width=\"800\" height=\"450\" src=\"https://www.youtube.com/embed/CJAZCYvigVc\" frameborder=\"0\" allowfullscreen></iframe>\n",
    "</div>\n",
    "<br>\n",
    "<br>\n",
    "<p style=\"font-family: 'American Typewriter', 'Courier New', Courier, 'Lucida Sans Typewriter', 'Lucida Typewriter', monospace;\">\n",
    "Aprovechando que tenemos un generador de senoidales funcionando, y recordando que la DFT de una senoidal de frecuencia f0, será una delta de Kronecker posicionada en la frecuencia f0. Validen sus funciones con esta experiencia </p>\n",
    "\n",
    "<p style=\"font-family: 'American Typewriter', 'Courier New', Courier, 'Lucida Sans Typewriter', 'Lucida Typewriter', monospace;\"\"><strong>Bonus:</strong></p>\n",
    "<ul>\n",
    "<li style=\"font-family: 'American Typewriter', 'Courier New', Courier, 'Lucida Sans Typewriter', 'Lucida Typewriter', monospace;\">💎 Probar las mismas experiencias con la <a href=\"https://numpy.org/doc/stable/reference/generated/numpy.fft.fft.html\" target=\"_blank\">transformada rápida de Fourier</a> (DFT rápida se llama FFT).</li>\n",
    "<li style=\"font-family: 'American Typewriter', 'Courier New', Courier, 'Lucida Sans Typewriter', 'Lucida Typewriter', monospace;\">🤯 Calcular la DFT de una señal aleatoria, por ejemplo ruido uniforme de varianza σ² = 4. Pueden encontrar cómo depende la varianza de los parámetros de la distribución <a href=\"https://es.wikipedia.org/wiki/Distribuci%C3%B3n_uniforme_continua\" target=\"_blank\">aquí</a>.</li>\n",
    "</ul>"
   ]
  },
  {
   "cell_type": "markdown",
   "metadata": {},
   "source": [
    "<span style=\"border: 2px solid #FFFFFF; padding: 5px; display: inline-block; background-color: #2CD546; font-family: 'American Typewriter', 'Courier New', Courier, 'Lucida Sans Typewriter', 'Lucida Typewriter', monospace; font-size: 20px; color: #FFFFFF; font-weight: bold;\">\n",
    "    Resolución\n",
    "</span>\n",
    "<br><br>\n",
    "<p style=\"font-family: 'American Typewriter', 'Courier New', Courier, 'Lucida Sans Typewriter', 'Lucida Typewriter', monospace; font-size: 20px; font-weight: bold;\">\n",
    "    Importamos librerías y módulos necesarios:\n",
    "</p>\n"
   ]
  },
  {
   "cell_type": "code",
   "execution_count": 48,
   "metadata": {},
   "outputs": [],
   "source": [
    "import numpy as np\n",
    "import matplotlib.pyplot as plt\n",
    "from IPython.display import display, Image\n",
    "from scipy import signal\n",
    "import psdmodulos as psd"
   ]
  },
  {
   "cell_type": "markdown",
   "metadata": {},
   "source": [
    "<p style=\"font-family: 'American Typewriter', 'Courier New', Courier, 'Lucida Sans Typewriter', 'Lucida Typewriter', monospace; font-size: 20px;\">\n",
    "    Definición de parámetros de simulación:\n",
    "</p>"
   ]
  },
  {
   "cell_type": "code",
   "execution_count": 49,
   "metadata": {},
   "outputs": [],
   "source": [
    "fs = 1000                #   Frecuencia de muestreo en Hz\n",
    "N  = fs                 #   Cantidad de muestras digitalizadas por el ADC (# muestras)\n",
    "Ts = 1/fs               #   Periodo de muestreo"
   ]
  },
  {
   "cell_type": "markdown",
   "metadata": {},
   "source": [
    "<p style=\"font-family: 'American Typewriter', 'Courier New', Courier, 'Lucida Sans Typewriter', 'Lucida Typewriter', monospace; font-size: 20px;\">\n",
    "    Definimos los parámetros de la señal Senoidal:\n",
    "</p>"
   ]
  },
  {
   "cell_type": "code",
   "execution_count": 50,
   "metadata": {},
   "outputs": [],
   "source": [
    "frecuencia  = 50           # frecuencia de la señal en Hz\n",
    "Amplitud    = np.sqrt(2)    # Amplitud máxiva en Volt\n",
    "Phase       = np.pi/2.0     # Fase en radianes\n",
    "ValorMedio  = 0             # Componente de continua\n",
    "snr         = 40            # Relación señal-ruido en dB"
   ]
  },
  {
   "cell_type": "markdown",
   "metadata": {},
   "source": [
    "<p style=\"font-family: 'American Typewriter', 'Courier New', Courier, 'Lucida Sans Typewriter', 'Lucida Typewriter', monospace; font-size: 20px;\">\n",
    "    Creamos las funciones para generar la Señal y el Ruido\n",
    "</p>"
   ]
  },
  {
   "cell_type": "code",
   "execution_count": 51,
   "metadata": {},
   "outputs": [],
   "source": [
    "def GeneradorSenoidal(ff, AA, ph, dc, snr):\n",
    "    tt, signal = generar_senoidal(ff, AA, ph, dc)\n",
    "    ruido = generar_ruido_uniforme(signal, snr)\n",
    "    return tt, signal + ruido\n",
    "\n",
    "def generar_senoidal(ff, AA, ph, dc):\n",
    "    tt = np.arange(start=0, stop=N*Ts, step=Ts)\n",
    "    signal = AA * np.sin(2 * np.pi * ff * tt + ph) + dc\n",
    "    return tt, signal\n",
    "\n",
    "def generar_ruido_uniforme(signal, snr):\n",
    "    pot_señal = np.var(signal)\n",
    "    pot_ruido = pot_señal / (10**(snr / 10))  # Convertir SNR a escala lineal\n",
    "    ruido = np.random.uniform(-np.sqrt(3*pot_ruido) , np.sqrt(3*pot_ruido) , len(signal))\n",
    "    return ruido"
   ]
  },
  {
   "cell_type": "markdown",
   "metadata": {},
   "source": [
    "<p style=\"font-family: 'American Typewriter', 'Courier New', Courier, 'Lucida Sans Typewriter', 'Lucida Typewriter', monospace; font-size: 20px;\">\n",
    "    Función para graficar las Señales:\n",
    "</p>"
   ]
  },
  {
   "cell_type": "code",
   "execution_count": 52,
   "metadata": {},
   "outputs": [],
   "source": [
    "def plot_signal(tt, signal, title, color, xlabel='Tiempo [s]', ylabel='Amplitud [V]'):\n",
    "    plt.figure(figsize=(12, 4))\n",
    "    plt.plot(tt, signal,label=title, color=color)\n",
    "    plt.xlabel(xlabel)\n",
    "    plt.ylabel(ylabel)\n",
    "    plt.grid(True, linestyle='dotted', color='gray')\n",
    "    plt.savefig(f'{title}.png', bbox_inches='tight', transparent=True)\n",
    "    plt.close()"
   ]
  },
  {
   "cell_type": "markdown",
   "metadata": {},
   "source": [
    "<p style=\"font-family: 'American Typewriter', 'Courier New', Courier, 'Lucida Sans Typewriter', 'Lucida Typewriter', monospace; font-size: 20px;\">\n",
    "    Configuración del estilo global de los gráficos:\n",
    "</p>"
   ]
  },
  {
   "cell_type": "code",
   "execution_count": 53,
   "metadata": {},
   "outputs": [],
   "source": [
    "plt.rcParams['savefig.transparent'] = True\n",
    "plt.rcParams['axes.edgecolor'] = 'gray'\n",
    "plt.rcParams['axes.labelcolor'] = 'gray'\n",
    "plt.rcParams['xtick.color'] = 'gray'\n",
    "plt.rcParams['ytick.color'] = 'gray'"
   ]
  },
  {
   "cell_type": "markdown",
   "metadata": {},
   "source": [
    "<p style=\"font-family: 'American Typewriter', 'Courier New', Courier, 'Lucida Sans Typewriter', 'Lucida Typewriter', monospace; font-size: 20px;\">\n",
    "    Generamos la Señal Senoidal con Ruido aleatorio uniforme\n",
    "</p>"
   ]
  },
  {
   "cell_type": "code",
   "execution_count": 54,
   "metadata": {},
   "outputs": [
    {
     "name": "stderr",
     "output_type": "stream",
     "text": [
      "No artists with labels found to put in legend.  Note that artists whose label start with an underscore are ignored when legend() is called with no argument.\n"
     ]
    },
    {
     "name": "stdout",
     "output_type": "stream",
     "text": [
      "\n",
      "\tSNR = 39.95660767317072[dB]\n",
      "\n",
      "\tPotencia de la Señal:\t 1.000000000000001[W]\n",
      "\n",
      "\tPotencia del Ruido:\t 0.00010000000000000011[W]\n"
     ]
    }
   ],
   "source": [
    "tt, xx = psd.SignalGenerator(Amplitud, frecuencia, Phase, ValorMedio, N, fs, signal='Senoidal', noise='normal', snr=snr)\n",
    "psd.plot_signal(tt, xx, 'SenoidalRuido', color='blue', snr=snr)"
   ]
  },
  {
   "cell_type": "markdown",
   "metadata": {},
   "source": [
    "<div style=\"text-align: center;\">\n",
    "  <span style=\"border: 2px solid white; padding: 5px; display: inline-block; background-color: blue; font-family: 'American Typewriter', 'Courier New', Courier, 'Lucida Sans Typewriter', 'Lucida Typewriter', monospace; font-size: 20px; color: #FFFFFF; font-weight: bold;\">\n",
    "    Señal Senoidal + Ruido\n",
    "  </span>\n",
    "</div>\n",
    "<div style=\"max-width: 100%; text-align: center;\">\n",
    "  <img src=\"SenoidalRuido.png\" alt=\"Texto alternativo\" style=\"max-width: 100%;\">\n",
    "</div>"
   ]
  },
  {
   "cell_type": "markdown",
   "metadata": {},
   "source": [
    "<p style=\"font-family: 'American Typewriter', 'Courier New', Courier, 'Lucida Sans Typewriter', 'Lucida Typewriter', monospace; font-size: 20px;\">\n",
    "    Definmos la el algoritmo de la DFT\n",
    "</p>"
   ]
  },
  {
   "cell_type": "code",
   "execution_count": 55,
   "metadata": {},
   "outputs": [],
   "source": [
    "def mi_funcion_DFT(xx):\n",
    "    N = len(xx)  # Número de muestras de la señal de entrada\n",
    "    XX = np.zeros(N, dtype=np.complex128)  # Inicializamos un arreglo para almacenar la DFT\n",
    "\n",
    "    for k in range(N):\n",
    "        XX[k] = 0\n",
    "        for n in range(N):\n",
    "            XX[k] += xx[n] * np.exp(-2j * np.pi * k * n / N)\n",
    "    return XX/N"
   ]
  },
  {
   "cell_type": "markdown",
   "metadata": {},
   "source": [
    "<p style=\"font-family: 'American Typewriter', 'Courier New', Courier, 'Lucida Sans Typewriter', 'Lucida Typewriter', monospace; font-size: 20px;\">\n",
    "    Calculamos la DFT de la señal\n",
    "</p>"
   ]
  },
  {
   "cell_type": "code",
   "execution_count": 56,
   "metadata": {},
   "outputs": [
    {
     "name": "stderr",
     "output_type": "stream",
     "text": [
      "No artists with labels found to put in legend.  Note that artists whose label start with an underscore are ignored when legend() is called with no argument.\n"
     ]
    }
   ],
   "source": [
    "XX = mi_funcion_DFT( xx )\n",
    "\n",
    "# Calcular la magnitud del espectro en frecuencia\n",
    "X_mag = np.abs(XX)\n",
    "\n",
    "# Crear un vector de frecuencia\n",
    "df  = fs/N\n",
    "frequencies = np.arange(start=0, stop=(N)*df, step=df)\n",
    "bfrec = frequencies <= fs/2\n",
    "# Visualizar el espectro en frecuencia\n",
    "psd.plot_signal(frequencies[bfrec], 10*np.log10(2*np.abs(XX[bfrec])**2),'PSD', color='#CD5C5C', xlabel='Frecuencia [f]', ylabel='Amplitud [dB]')"
   ]
  },
  {
   "cell_type": "markdown",
   "metadata": {},
   "source": [
    "<div style=\"text-align: center;\">\n",
    "  <span style=\"border: 2px solid white; padding: 5px; display: inline-block; background-color: #CD5C5C; font-family: 'American Typewriter', 'Courier New', Courier, 'Lucida Sans Typewriter', 'Lucida Typewriter', monospace; font-size: 20px; color: white; font-weight: bold;\">\n",
    "    PSD\n",
    "  </span>\n",
    "</div>\n",
    "<div style=\"max-width: 100%; text-align: center;\">\n",
    "  <img src=\"PSD.png\" alt=\"Texto alternativo\" style=\"max-width: 100%;\">\n",
    "</div>"
   ]
  }
 ],
 "metadata": {
  "kernelspec": {
   "display_name": "Python 3",
   "language": "python",
   "name": "python3"
  },
  "language_info": {
   "codemirror_mode": {
    "name": "ipython",
    "version": 3
   },
   "file_extension": ".py",
   "mimetype": "text/x-python",
   "name": "python",
   "nbconvert_exporter": "python",
   "pygments_lexer": "ipython3",
   "version": "3.10.11"
  },
  "orig_nbformat": 4
 },
 "nbformat": 4,
 "nbformat_minor": 2
}
