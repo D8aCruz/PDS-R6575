{
 "cells": [
  {
   "cell_type": "markdown",
   "metadata": {},
   "source": [
    "<div style=\"display: flex; align-items: center;\">\n",
    "  <p style=\"font-family: 'American Typewriter', 'Courier New', Courier, 'Lucida Sans Typewriter', 'Lucida Typewriter', monospace; text-align: left; margin-right: auto; line-height: 1.2;\">\n",
    "    <font color='black'><strong>Procesamiento Digital de Señales</strong><br>David Ochoa Cruz<br>R6575-2023</font>\n",
    "  </p>\n",
    "  <img src=\"logo-utn-frba-electronica.svg\" alt=\"Logo UTN FRBA\" width=\"200\" height=\"40\" style=\"flex-shrink: 0; margin-left: 10px;\">\n",
    "</div>"
   ]
  },
  {
   "cell_type": "markdown",
   "metadata": {},
   "source": [
    "<p style=\"border: ridge white 2px; text-align: center;font-weight: italic; font-family: 'American Typewriter', 'Courier New', Courier, 'Lucida Sans Typewriter', 'Lucida Typewriter', monospace; font-size:30px; background-color:#2CD546\"><font color='white'>\n",
    "    <strong>Generador Senoidal</strong>\n"
   ]
  },
  {
   "cell_type": "markdown",
   "metadata": {},
   "source": [
    "</p>"
   ]
  },
  {
   "cell_type": "markdown",
   "metadata": {},
   "source": [
    "<p style=\"font-family: 'American Typewriter', 'Courier New', Courier, 'Lucida Sans Typewriter', 'Lucida Typewriter', monospace; font-size: 20px;\">\n",
    "    Importamos librerías y módulos necesarios:\n",
    "</p>"
   ]
  },
  {
   "cell_type": "code",
   "execution_count": 80,
   "metadata": {},
   "outputs": [],
   "source": [
    "import numpy as np\n",
    "import matplotlib.pyplot as plt"
   ]
  },
  {
   "cell_type": "markdown",
   "metadata": {},
   "source": [
    "<p style=\"font-family: 'American Typewriter', 'Courier New', Courier, 'Lucida Sans Typewriter', 'Lucida Typewriter', monospace; font-size: 20px;\">\n",
    "    Definición de parámetros de simulación:\n",
    "</p>"
   ]
  },
  {
   "cell_type": "code",
   "execution_count": 81,
   "metadata": {},
   "outputs": [],
   "source": [
    "fs = 500                #   Frecuencia de muestreo en Hz\n",
    "N  = fs                 #   Cantidad de muestras digitalizadas por el ADC (# muestras)\n",
    "Ts = 1/fs               #   Periodo de muestreo"
   ]
  },
  {
   "cell_type": "markdown",
   "metadata": {},
   "source": [
    "<p style=\"font-family: 'American Typewriter', 'Courier New', Courier, 'Lucida Sans Typewriter', 'Lucida Typewriter', monospace; font-size: 20px;\">\n",
    "    Definimos los parámetros de la señal Senoidal:\n",
    "</p>"
   ]
  },
  {
   "cell_type": "code",
   "execution_count": 82,
   "metadata": {},
   "outputs": [],
   "source": [
    "frecuencia  = 50            # frecuencia de la señal en Hz\n",
    "Amplitud    = np.sqrt(2)    # Amplitud máxiva en Volt\n",
    "Phase       = np.pi/2.0     # Fase en radianes\n",
    "ValorMedio  = 0             # Componente de continua\n",
    "snr         = 25            # Relación señal-ruido en dB"
   ]
  },
  {
   "cell_type": "markdown",
   "metadata": {},
   "source": [
    "<p style=\"font-family: 'American Typewriter', 'Courier New', Courier, 'Lucida Sans Typewriter', 'Lucida Typewriter', monospace; font-size: 20px;\">\n",
    "    Creamos las funciones para generar la Señal y el Ruido\n",
    "</p>"
   ]
  },
  {
   "cell_type": "code",
   "execution_count": 83,
   "metadata": {},
   "outputs": [],
   "source": [
    "def GeneradorSenoidal(ff, AA, ph, dc, snr, noise = 'uniform'):\n",
    "    tt, signal = generar_senoidal(ff, AA, ph, dc)\n",
    "    ruido = generar_ruido(signal, snr, noise=noise)\n",
    "    return tt, signal + ruido\n",
    "\n",
    "def generar_senoidal(ff, AA, ph, dc):\n",
    "    tt = np.arange(start=0, stop=N*Ts, step=Ts)\n",
    "    signal = AA * np.sin(2 * np.pi * ff * tt + ph) + dc\n",
    "    return tt, signal\n",
    "\n",
    "def generar_ruido(signal, snr, noise = 'normal'):\n",
    "    pot_señal = np.var(signal)\n",
    "    pot_ruido = pot_señal / (10**(snr / 10))  # Convertir SNR a escala lineal\n",
    "    #ruido = np.random.uniform(-np.sqrt(3*pot_ruido) , np.sqrt(3*pot_ruido) , len(signal))\n",
    "    if noise == 'normal':\n",
    "        ruido = np.random.normal(0, np.sqrt(pot_ruido), len(signal))\n",
    "        print('aqui')\n",
    "    elif noise == 'uniform':\n",
    "        ruido = np.random.uniform(-np.sqrt(3*pot_ruido), np.sqrt(3*pot_ruido), len(signal))\n",
    "    else:\n",
    "        raise ValueError(\"El tipo de ruido debe ser 'normal' o 'uniform'.\")    \n",
    "    print(f\"\\n\\tSNR = {10*np.log10((np.var(signal))/np.var(ruido))}[dB]\")\n",
    "    print(f\"\\n\\tPotencia de la Señal:\\t {pot_señal}[W]\")\n",
    "    print(f\"\\n\\tPotencia del Ruido:\\t {pot_ruido}[W]\")\n",
    "    return ruido"
   ]
  },
  {
   "cell_type": "markdown",
   "metadata": {},
   "source": [
    "<p style=\"font-family: 'American Typewriter', 'Courier New', Courier, 'Lucida Sans Typewriter', 'Lucida Typewriter', monospace; font-size: 20px;\">\n",
    "    Función para graficar las Señales:\n",
    "</p>"
   ]
  },
  {
   "cell_type": "code",
   "execution_count": 84,
   "metadata": {},
   "outputs": [],
   "source": [
    "def plot_signal(tt, signal, title, color, xlabel='Tiempo [s]', ylabel='Amplitud [V]', snr = 60):\n",
    "    plt.close()\n",
    "    plt.figure(figsize=(12, 4))\n",
    "    plt.plot(tt, signal,label=f'Señal con Ruido (SNR = {snr} dB)', color=color)\n",
    "    plt.xlabel(xlabel)\n",
    "    plt.ylabel(ylabel)\n",
    "    plt.legend()\n",
    "    plt.grid(True, linestyle='dotted', color='gray')\n",
    "    plt.savefig(f'{title}.png', bbox_inches='tight', transparent=True)\n",
    "    plt.close()"
   ]
  },
  {
   "cell_type": "markdown",
   "metadata": {},
   "source": [
    "<p style=\"font-family: 'American Typewriter', 'Courier New', Courier, 'Lucida Sans Typewriter', 'Lucida Typewriter', monospace; font-size: 20px;\">\n",
    "    Configuración del estilo global de los gráficos:\n",
    "</p>"
   ]
  },
  {
   "cell_type": "code",
   "execution_count": 85,
   "metadata": {},
   "outputs": [],
   "source": [
    "plt.rcParams['savefig.transparent'] = True\n",
    "plt.rcParams['axes.edgecolor'] = 'gray'\n",
    "plt.rcParams['axes.labelcolor'] = 'gray'\n",
    "plt.rcParams['xtick.color'] = 'gray'\n",
    "plt.rcParams['ytick.color'] = 'gray'"
   ]
  },
  {
   "cell_type": "markdown",
   "metadata": {},
   "source": [
    "<p style=\"font-family: 'American Typewriter', 'Courier New', Courier, 'Lucida Sans Typewriter', 'Lucida Typewriter', monospace; font-size: 20px;\">\n",
    "    Generamos la Señal Senoidal con Ruido aleatorio uniforme\n",
    "</p>"
   ]
  },
  {
   "cell_type": "code",
   "execution_count": 86,
   "metadata": {},
   "outputs": [
    {
     "name": "stdout",
     "output_type": "stream",
     "text": [
      "\n",
      "\tSNR = 25.13832994379447[dB]\n",
      "\n",
      "\tPotencia de la Señal:\t 1.0000000000000009[W]\n",
      "\n",
      "\tPotencia del Ruido:\t 0.003162277660168382[W]\n"
     ]
    }
   ],
   "source": [
    "tt, Senoidal_con_ruido = GeneradorSenoidal(frecuencia,Amplitud,Phase,ValorMedio,snr, noise='uniform')\n",
    "plot_signal(tt, Senoidal_con_ruido,'SyR', color='#CD5C5C', xlabel='tiempo [t]', ylabel='Amplitud [V]', snr=snr )"
   ]
  },
  {
   "cell_type": "markdown",
   "metadata": {},
   "source": [
    "<br/>\n",
    "<div style=\"text-align: center;\">\n",
    "  <span style=\"border: 2px solid white; padding: 5px; display: inline-block; background-color: #CD5C5C; font-family: 'American Typewriter', 'Courier New', Courier, 'Lucida Sans Typewriter', 'Lucida Typewriter', monospace; font-size: 20px; color: white; font-weight: bold;\">\n",
    "    SEÑAL SENOIDAL CON RUIDO\n",
    "  </span>\n",
    "</div>\n",
    "<div style=\"max-width: 100%; text-align: center;\">\n",
    "  <img src=\"SyR.png\" alt=\"Texto alternativo\" style=\"max-width: 100%;\">\n",
    "</div>"
   ]
  },
  {
   "cell_type": "markdown",
   "metadata": {},
   "source": [
    "<p style=\"font-family: 'American Typewriter', 'Courier New', Courier, 'Lucida Sans Typewriter', 'Lucida Typewriter', monospace; font-size: 20px;\">\n",
    "    Densidad espectral de potencia de la Señal Senoidal con Ruido aleatorio de distribucion Normal\n",
    "</p>"
   ]
  },
  {
   "cell_type": "code",
   "execution_count": 87,
   "metadata": {},
   "outputs": [],
   "source": [
    "df  = fs/N\n",
    "ff = np.arange(start=0, stop=(N)*df, step=df)\n",
    "#ff = np.linspace(0, (N-1)*df, N)\n",
    "plt.figure(1)\n",
    "XX = (1/N)*np.fft.fft( Senoidal_con_ruido, axis = 0 )\n",
    "bfrec = ff <= fs/2\n",
    "plot_signal(ff[bfrec], 10*np.log10(2*np.abs(XX[bfrec])**2),'PSD', color='green', xlabel='Frecuencia [f]', ylabel='Amplitud [dB]', snr=snr)"
   ]
  },
  {
   "cell_type": "markdown",
   "metadata": {},
   "source": [
    "<br/>\n",
    "<div style=\"text-align: center;\">\n",
    "  <span style=\"border: 2px solid white; padding: 5px; display: inline-block; background-color: green; font-family: 'American Typewriter', 'Courier New', Courier, 'Lucida Sans Typewriter', 'Lucida Typewriter', monospace; font-size: 20px; color: white; font-weight: bold;\">\n",
    "    PSD\n",
    "  </span>\n",
    "</div>\n",
    "<div style=\"max-width: 100%; text-align: center;\">\n",
    "  <img src=\"PSD.png\" alt=\"Texto alternativo\" style=\"max-width: 100%;\">\n",
    "</div>\n",
    "<br/>"
   ]
  },
  {
   "cell_type": "markdown",
   "metadata": {},
   "source": [
    "<div style=\"text-align: center;\">\n",
    "  <span style=\"border: 2px solid white; padding: 5px; display: inline-block; background-color: purple; font-family: 'American Typewriter', 'Courier New', Courier, 'Lucida Sans Typewriter', 'Lucida Typewriter', monospace; font-size: 20px; color: white; font-weight: bold;\">\n",
    "    Verificación del Teorma de Parseval\n",
    "  </span>\n",
    "</div>"
   ]
  },
  {
   "cell_type": "markdown",
   "metadata": {},
   "source": [
    "<p style=\"font-family: 'American Typewriter', 'Courier New', Courier, 'Lucida Sans Typewriter', 'Lucida Typewriter', monospace; font-size: 20px;\">\n",
    "    La relación entre el dominio del tiempo y el dominio de la frecuencia según el teorema de Parseval para señales discretas es la siguiente:\n",
    "</p>"
   ]
  },
  {
   "cell_type": "markdown",
   "metadata": {},
   "source": [
    "Si tienes una señal discreta `x[n]` en el dominio del tiempo, su Transformada de Fourier Discreta (DFT) está dada por `X[k]`, donde `n` y `k` son índices discretos. El teorema de Parseval establece que la Energia en el dominio del tiempo es igual a la Energia en el dominio de la frecuencia y se expresa de la siguiente manera:\n",
    "\n",
    "$$\\sum_{n=0}^{N-1} |x[n]|^2 = \\frac{1}{N} \\sum_{k=0}^{N-1} |X[k]|^2$$\n",
    "\n",
    "Donde:\n",
    "- `N` es el número total de muestras en la señal.\n",
    "- `x[n]` es el valor de la señal en el tiempo discreto `n`.\n",
    "- `X[k]` es el valor de la DFT en la frecuencia discreta `k`."
   ]
  },
  {
   "cell_type": "markdown",
   "metadata": {},
   "source": [
    "<p style=\"font-family: 'American Typewriter', 'Courier New', Courier, 'Lucida Sans Typewriter', 'Lucida Typewriter', monospace; font-size: 20px;\">\n",
    "    En otras palabras, la suma de los cuadrados de los valores de la señal en el dominio del tiempo es igual a la suma de los cuadrados de los valores de la DFT en el dominio de la frecuencia, normalizada por N.\n",
    "Este teorema es fundamental en el procesamiento de señales y se utiliza para demostrar que la energía de la señal en el dominio del tiempo es equivalente a la energía en el dominio de la frecuencia.\n",
    "</p>"
   ]
  },
  {
   "cell_type": "code",
   "execution_count": 88,
   "metadata": {},
   "outputs": [
    {
     "name": "stdout",
     "output_type": "stream",
     "text": [
      "\n",
      "E(t) = 499.6366292045485\n",
      "\n",
      "E(f) = 499.63662920454857\n"
     ]
    }
   ],
   "source": [
    "X = np.fft.fft(Senoidal_con_ruido)\n",
    "E_tiempo = np.sum(np.abs(Senoidal_con_ruido)**2)\n",
    "print(f\"\\nE(t) = {E_tiempo}\")\n",
    "E_frecuencia = np.sum(np.abs(X)**2)/N\n",
    "print(f\"\\nE(f) = {E_frecuencia}\")"
   ]
  }
 ],
 "metadata": {
  "kernelspec": {
   "display_name": "Python 3",
   "language": "python",
   "name": "python3"
  },
  "language_info": {
   "codemirror_mode": {
    "name": "ipython",
    "version": 3
   },
   "file_extension": ".py",
   "mimetype": "text/x-python",
   "name": "python",
   "nbconvert_exporter": "python",
   "pygments_lexer": "ipython3",
   "version": "3.10.11"
  },
  "orig_nbformat": 4
 },
 "nbformat": 4,
 "nbformat_minor": 2
}
