{
 "cells": [
  {
   "cell_type": "markdown",
   "metadata": {},
   "source": []
  },
  {
   "cell_type": "markdown",
   "metadata": {},
   "source": [
    "<div style=\"display: flex; align-items: center;\">\n",
    "  <p style=\"font-family: 'American Typewriter', 'Courier New', Courier, 'Lucida Sans Typewriter', 'Lucida Typewriter', monospace; text-align: left; margin-right: auto; line-height: 1.2;\">\n",
    "    <font color='black'><strong>Digital Signal Processing</strong><br>Curso R6575-2023<br>David Ochoa Cruz</font>\n",
    "  </p>\n",
    "  <img src=\"logo-utn-frba-electronica.svg\" alt=\"Logo UTN FRBA\" width=\"200\" height=\"40\" style=\"flex-shrink: 0; margin-left: 10px;\">\n",
    "</div>"
   ]
  },
  {
   "cell_type": "markdown",
   "metadata": {},
   "source": [
    "<p style=\"border: ridge black 2px; text-align: center;font-weight: italic; font-family:'Comic Sans MS', cursive, sans-serif; font-size:30px; background-color:#2CD546\"><font color='white'>\n",
    "    <strong>Trabajo Semanal N° 1</strong>\n",
    "</p>"
   ]
  },
  {
   "cell_type": "markdown",
   "metadata": {},
   "source": [
    "<!DOCTYPE html>\n",
    "<html>\n",
    "<head>\n",
    "<style>\n",
    "  /* Estilos CSS aquí */\n",
    "  body {\n",
    "    font-family: Arial, sans-serif;\n",
    "    background-color: white;\n",
    "    color: black;\n",
    "    margin: 20px;\n",
    "    padding: 20px;\n",
    "  }\n",
    "</style>\n",
    "</head>\n",
    "<body>\n",
    "<p style=\"font-family:'Comic Sans MS', cursive, sans-serif;\">En este primer trabajo comenzaremos por diseñar un generador de señales que utilizaremos en las primeras simulaciones que hagamos. La primer tarea consistirá en programar una función que genere señales senoidales y que permita parametrizar:</p>\n",
    "<ul>\n",
    "  <li>la amplitud máxima de la senoidal (volts)</li>\n",
    "  <li>su valor medio (volts)</li>\n",
    "  <li>la frecuencia (Hz)</li>\n",
    "  <li>la fase (radianes)</li>\n",
    "  <li>la cantidad de muestras digitalizada por el ADC (# muestras)</li>\n",
    "  <li>la frecuencia de muestreo del ADC.</li>\n",
    "</ul>\n",
    "<p style=\"font-family:'Comic Sans MS', cursive, sans-serif;\">Es decir que la función que uds armen debería admitir se llamada de la siguiente manera:</p>\n",
    "<pre>\n",
    "tt, xx = mi_funcion_sen(vmax = 1, dc = 0, ff = 1, ph = 0, nn = N, fs = fs)\n",
    "</pre>\n",
    "<p style=\"font-family:'Comic Sans MS', cursive, sans-serif;\">Recuerden que tanto xx como tt deben ser vectores de Nx1. Puede resultarte útil el módulo de visualización matplotlib.pyplot donde encontrarán todas las funciones de visualización estilo Matlab. Para usarlo:</p>\n",
    "<pre>\n",
    "import matplotlib.pyplot as plt\n",
    "plt.plot(tt, xx)\n",
    "</pre>\n",
    "<p style=\"font-family:'Comic Sans MS', cursive, sans-serif;\"><strong>Entrega</strong></p>\n",
    "<p style=\"font-family:'Comic Sans MS', cursive, sans-serif;\">Recuerden que solo tienen que entregar una URL a su notebook. Con esa URL ya tendré acceso a su repositorio y todo lo que usaron.</p>\n",
    "<p><a href=\"https://nbviewer.jupyter.org/github/marianux/PDS/blob/main/preparacion.ipynb\" target=\"_blank\">https://nbviewer.jupyter.org/github/marianux/PDS/blob/main/preparacion.ipynb</a></p>\n",
    "<p style=\"font-family:'Comic Sans MS', cursive, sans-serif;\"><strong>Bonus:</strong></p>\n",
    "<ul>\n",
    "<li style=\"font-family:'Comic Sans MS', cursive, sans-serif;\">💎 Ser el primero en subir un enlace a tu notebook en esta tarea</li>\n",
    "<li style=\"font-family:'Comic Sans MS', cursive, sans-serif;\">🤯 Implementar alguna otra señal propia de un generador de señales.</li>\n",
    "</ul>\n",
    "<p style=\"font-family:'Comic Sans MS', cursive, sans-serif;\"><strong>Ayudas:</strong></p>\n",
    "<ul>\n",
    "<li style=\"font-family:'Comic Sans MS', cursive, sans-serif;\">La función numpy.sin seguro te va a servir.</li>\n",
    "<li style=\"font-family:'Comic Sans MS', cursive, sans-serif;\">No hace falta usar ningún lazo de control for, while, etc.</li>\n",
    "<li style=\"font-family:'Comic Sans MS', cursive, sans-serif;\">Podés consultar en el chat cualquier duda o problema que vayas encontrando. Buena suerte!</li>\n",
    "<li style=\"font-family:'Comic Sans MS', cursive, sans-serif;\">Te recomiendo que lo intentes primero, pero si tenés dificultades podés ver una posible solución: <a href=\"https://github.com/marianux/pdstestbench/blob/master/testbench0.py\">SPOILER LINK</a></li>\n",
    "</ul>\n",
    "</body>\n",
    "</html>"
   ]
  }
 ],
 "metadata": {
  "kernelspec": {
   "display_name": "Python 3",
   "language": "python",
   "name": "python3"
  },
  "language_info": {
   "codemirror_mode": {
    "name": "ipython",
    "version": 3
   },
   "file_extension": ".py",
   "mimetype": "text/x-python",
   "name": "python",
   "nbconvert_exporter": "python",
   "pygments_lexer": "ipython3",
   "version": "3.10.11"
  },
  "orig_nbformat": 4
 },
 "nbformat": 4,
 "nbformat_minor": 2
}
