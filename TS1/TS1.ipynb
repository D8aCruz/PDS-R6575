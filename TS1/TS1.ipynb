{
 "cells": [
  {
   "cell_type": "markdown",
   "metadata": {},
   "source": [
    "<div style=\"display: flex; align-items: center;\">\n",
    "  <p style=\"font-family: 'American Typewriter', 'Courier New', Courier, 'Lucida Sans Typewriter', 'Lucida Typewriter', monospace; text-align: left; margin-right: auto; line-height: 1.2;\">\n",
    "    <font color='black'><strong>Digital Signal Processing</strong><br>Curso R6575-2023<br>David Ochoa Cruz</font>\n",
    "  </p>\n",
    "  <img src=\"logo-utn-frba-electronica.svg\" alt=\"Logo UTN FRBA\" width=\"200\" height=\"40\" style=\"flex-shrink: 0; margin-left: 10px;\">\n",
    "</div>"
   ]
  },
  {
   "cell_type": "markdown",
   "metadata": {},
   "source": [
    "<p style=\"border: ridge black 2px; text-align: center;font-weight: italic; font-family: 'American Typewriter', 'Courier New', Courier, 'Lucida Sans Typewriter', 'Lucida Typewriter', monospace; font-size:30px; background-color:#2CD546\"><font color='white'>\n",
    "    <strong>Trabajo Semanal N°1</strong>\n",
    "</p>"
   ]
  },
  {
   "cell_type": "markdown",
   "metadata": {},
   "source": [
    "<!DOCTYPE html>\n",
    "<html>\n",
    "<head>\n",
    "<style>\n",
    "  /* Estilos CSS aquí */\n",
    "  body {\n",
    "    font-family: Arial, sans-serif;\n",
    "    background-color: white;\n",
    "    color: black;\n",
    "    margin: 20px;\n",
    "    padding: 20px;\n",
    "  }\n",
    "</style>\n",
    "</head>\n",
    "<body>\n",
    "<p style=\"font-family: 'American Typewriter', 'Courier New', Courier, 'Lucida Sans Typewriter', 'Lucida Typewriter', monospace;\">En este primer trabajo comenzaremos por diseñar un generador de señales que utilizaremos en las primeras simulaciones que hagamos. La primer tarea consistirá en programar una función que genere señales senoidales y que permita parametrizar:</p>\n",
    "<ul>\n",
    "  <li style=\"font-family: 'American Typewriter', 'Courier New', Courier, 'Lucida Sans Typewriter', 'Lucida Typewriter', monospace;\">la amplitud máxima de la senoidal (volts)</li>\n",
    "  <li style=\"font-family: 'American Typewriter', 'Courier New', Courier, 'Lucida Sans Typewriter', 'Lucida Typewriter', monospace;\">su valor medio (volts)</li>\n",
    "  <li style=\"font-family: 'American Typewriter', 'Courier New', Courier, 'Lucida Sans Typewriter', 'Lucida Typewriter', monospace;\">la frecuencia (Hz)</li>\n",
    "  <li style=\"font-family: 'American Typewriter', 'Courier New', Courier, 'Lucida Sans Typewriter', 'Lucida Typewriter', monospace;\">la fase (radianes)</li>\n",
    "  <li style=\"font-family: 'American Typewriter', 'Courier New', Courier, 'Lucida Sans Typewriter', 'Lucida Typewriter', monospace;\">la cantidad de muestras digitalizada por el ADC (# muestras)</li>\n",
    "  <li style=\"font-family: 'American Typewriter', 'Courier New', Courier, 'Lucida Sans Typewriter', 'Lucida Typewriter', monospace;\">la frecuencia de muestreo del ADC.</li>\n",
    "</ul>\n",
    "<p style=\"font-family: 'American Typewriter', 'Courier New', Courier, 'Lucida Sans Typewriter', 'Lucida Typewriter', monospace;\">Es decir que la función que uds armen debería admitir se llamada de la siguiente manera:</p>\n",
    "<pre>\n",
    "tt, xx = mi_funcion_sen(vmax=1, dc=0, ff=1, ph=0, nn=N, fs=fs)\n",
    "</pre>\n",
    "<p style=\"font-family: 'American Typewriter', 'Courier New', Courier, 'Lucida Sans Typewriter', 'Lucida Typewriter', monospace;\">Recuerden que tanto xx como tt deben ser vectores de Nx1. Puede resultarte útil el módulo de visualización matplotlib.pyplot donde encontrarán todas las funciones de visualización estilo Matlab. Para usarlo:</p>\n",
    "<pre>\n",
    "import matplotlib.pyplot as plt\n",
    "plt.plot(tt, xx)\n",
    "</pre>\n",
    "<p style=\"font-family: 'American Typewriter', 'Courier New', Courier, 'Lucida Sans Typewriter', 'Lucida Typewriter', monospace;\">\n",
    "  <strong>Entrega</strong>\n",
    "</p>\n",
    "<p style=\"font-family: 'American Typewriter', 'Courier New', Courier, 'Lucida Sans Typewriter', 'Lucida Typewriter', monospace;\"\">Recuerden que solo tienen que entregar una URL a su notebook. Con esa URL ya tendré acceso a su repositorio y todo lo que usaron.</p>\n",
    "<p><a href=\"https://nbviewer.jupyter.org/github/marianux/PDS/blob/main/preparacion.ipynb\" target=\"_blank\">https://nbviewer.jupyter.org/github/marianux/PDS/blob/main/preparacion.ipynb</a></p>\n",
    "<p style=\"font-family: 'American Typewriter', 'Courier New', Courier, 'Lucida Sans Typewriter', 'Lucida Typewriter', monospace;\"\"><strong>Bonus:</strong></p>\n",
    "<ul>\n",
    "<li style=\"font-family: 'American Typewriter', 'Courier New', Courier, 'Lucida Sans Typewriter', 'Lucida Typewriter', monospace;\">💎 Ser el primero en subir un enlace a tu notebook en esta tarea</li>\n",
    "<li style=\"font-family: 'American Typewriter', 'Courier New', Courier, 'Lucida Sans Typewriter', 'Lucida Typewriter', monospace;\">🤯 Implementar alguna otra señal propia de un generador de señales.</li>\n",
    "</ul>\n",
    "<p style=\"font-family: 'American Typewriter', 'Courier New', Courier, 'Lucida Sans Typewriter', 'Lucida Typewriter', monospace;\"><strong>Ayudas:</strong></p>\n",
    "<ul>\n",
    "<li style=\"font-family: 'American Typewriter', 'Courier New', Courier, 'Lucida Sans Typewriter', 'Lucida Typewriter', monospace;\">La función numpy.sin seguro te va a servir.</li>\n",
    "<li style=\"font-family: 'American Typewriter', 'Courier New', Courier, 'Lucida Sans Typewriter', 'Lucida Typewriter', monospace;\">No hace falta usar ningún lazo de control for, while, etc.</li>\n",
    "<li style=\"font-family: 'American Typewriter', 'Courier New', Courier, 'Lucida Sans Typewriter', 'Lucida Typewriter', monospace;\">Podés consultar en el chat cualquier duda o problema que vayas encontrando. Buena suerte!</li>\n",
    "<li style=\"font-family: 'American Typewriter', 'Courier New', Courier, 'Lucida Sans Typewriter', 'Lucida Typewriter', monospace;\">Te recomiendo que lo intentes primero, pero si tenés dificultades podés ver una posible solución: <a href=\"https://github.com/marianux/pdstestbench/blob/master/testbench0.py\" target=\"_blank\">SPOILER LINK</a></li>\n",
    "</ul>\n",
    "</body>\n",
    "</html>"
   ]
  },
  {
   "cell_type": "markdown",
   "metadata": {},
   "source": [
    "<span style=\"border: 2px solid #FFFFFF; padding: 5px; display: inline-block; background-color: #2CD546; font-family: 'American Typewriter', 'Courier New', Courier, 'Lucida Sans Typewriter', 'Lucida Typewriter', monospace; font-size: 20px; color: #FFFFFF; font-weight: bold;\">\n",
    "    Solución\n",
    "</span>\n",
    "<br>\n",
    "<p style=\"font-family: 'American Typewriter', 'Courier New', Courier, 'Lucida Sans Typewriter', 'Lucida Typewriter', monospace; font-size: 20px; font-weight: bold;\">\n",
    "    Importamos librerías y módulos necesarios:\n",
    "</p>\n"
   ]
  },
  {
   "cell_type": "code",
   "execution_count": 99,
   "metadata": {},
   "outputs": [],
   "source": [
    "import numpy as np\n",
    "import matplotlib.pyplot as plt\n",
    "from IPython.display import display, Image\n",
    "from scipy import signal"
   ]
  },
  {
   "cell_type": "markdown",
   "metadata": {},
   "source": [
    "<p style=\"font-family: 'American Typewriter', 'Courier New', Courier, 'Lucida Sans Typewriter', 'Lucida Typewriter', monospace; font-size: 20px; font-weight: bold;\">\n",
    "    Definición de parámetros de simulación:\n",
    "</p>"
   ]
  },
  {
   "cell_type": "code",
   "execution_count": 100,
   "metadata": {},
   "outputs": [],
   "source": [
    "fs = 500                #   Frecuencia de muestreo en Hz\n",
    "N  = fs                 #   Cantidad de muestras digitalizadas por el ADC (# muestras)\n",
    "Ts = 1/fs               #   Periodo de muestreo\n",
    "T_simulacion = N*Ts     #   Duracion total del la simulación en segundos"
   ]
  },
  {
   "cell_type": "markdown",
   "metadata": {},
   "source": [
    "<p style=\"font-family: 'American Typewriter', 'Courier New', Courier, 'Lucida Sans Typewriter', 'Lucida Typewriter', monospace; font-size: 20px; font-weight: bold;\">\n",
    "    Función para graficar las Señales:\n",
    "</p>"
   ]
  },
  {
   "cell_type": "code",
   "execution_count": 101,
   "metadata": {},
   "outputs": [],
   "source": [
    "def plot_signal(tt, signal, title, color):\n",
    "    plt.figure(figsize=(12, 4))\n",
    "    plt.plot(tt, signal,label=title, color=color)\n",
    "    plt.xlabel('tiempo [s]')\n",
    "    plt.ylabel('Amplitud [V]')\n",
    "    plt.grid(True, linestyle='dotted', color='gray')\n",
    "    plt.savefig(f'{title}.png', bbox_inches='tight', transparent=True)\n",
    "    plt.close()"
   ]
  },
  {
   "cell_type": "markdown",
   "metadata": {},
   "source": [
    "<p style=\"font-family: 'American Typewriter', 'Courier New', Courier, 'Lucida Sans Typewriter', 'Lucida Typewriter', monospace; font-size: 20px; font-weight: bold;\">\n",
    "    Creamos las funciones para generar las siguientes señales periódicas:\n",
    "</p>\n",
    "<ul>\n",
    "    <li style=\"font-family: 'American Typewriter', 'Courier New', Courier, 'Lucida Sans Typewriter', 'Lucida Typewriter', monospace;\">Señal Senoidal</li>\n",
    "    <li style=\"font-family: 'American Typewriter', 'Courier New', Courier, 'Lucida Sans Typewriter', 'Lucida Typewriter', monospace;\">Señal Cuadrada</li>\n",
    "    <li style=\"font-family: 'American Typewriter', 'Courier New', Courier, 'Lucida Sans Typewriter', 'Lucida Typewriter', monospace;\">Señal Triangular</li>\n",
    "</ul>"
   ]
  },
  {
   "cell_type": "code",
   "execution_count": 102,
   "metadata": {},
   "outputs": [],
   "source": [
    "def mi_funcion_sen(vmax = 1, dc = 0, ff = 1, ph = 0, nn = N, fs = fs):\n",
    "    tt = np.arange(start=0, stop=T_simulacion, step=Ts)\n",
    "    xx = vmax*np.sin(2*np.pi*ff*tt + ph) + dc\n",
    "    return tt, xx\n",
    "\n",
    "def mi_funcion_cuadrada(vmax = 1, dc = 0, ff = 1, duty = 0.5, nn = N, fs = fs):\n",
    "    tt = np.arange(start=0, stop=T_simulacion, step=Ts)\n",
    "    xx = vmax*signal.square( (2*np.pi*ff*tt), duty) + dc\n",
    "    return tt, xx\n",
    "\n",
    "def mi_funcion_triangular(vmax=1, dc=0, ff=1, width=0.5, nn=N, fs=fs):\n",
    "    tt = np.arange(start=0, stop=T_simulacion, step=Ts)\n",
    "    xx = vmax*signal.sawtooth( (2*np.pi*ff*tt), width) + dc\n",
    "    return tt, xx"
   ]
  },
  {
   "cell_type": "markdown",
   "metadata": {},
   "source": [
    "<p style=\"font-family: 'American Typewriter', 'Courier New', Courier, 'Lucida Sans Typewriter', 'Lucida Typewriter', monospace; font-size: 20px; font-weight: bold;\">\n",
    "    Definimos los parámetros de las señales:\n",
    "</p>"
   ]
  },
  {
   "cell_type": "code",
   "execution_count": 103,
   "metadata": {},
   "outputs": [],
   "source": [
    "frecuencia    = 10        # frecuencia de la señal en Hz\n",
    "Amplitud      = 1         # Amplitud máxiva en Volt\n",
    "Phase         = np.pi/2.0 # Fase en radianes\n",
    "ValorMedio    = 0         # Componente de continua\n",
    "Duty          = 0.8       # Ciclo de actividad\n",
    "Width         = 0.        # Ancho entre el inicio y el pico de la triangular "
   ]
  },
  {
   "cell_type": "markdown",
   "metadata": {},
   "source": [
    "<p style=\"font-family: 'American Typewriter', 'Courier New', Courier, 'Lucida Sans Typewriter', 'Lucida Typewriter', monospace; font-size: 20px; font-weight: bold;\">\n",
    "    Generamos las funciones periódicas:\n",
    "</p>"
   ]
  },
  {
   "cell_type": "code",
   "execution_count": 104,
   "metadata": {},
   "outputs": [],
   "source": [
    "tiempo, SignalSen = mi_funcion_sen(vmax=Amplitud, ff=frecuencia, dc=ValorMedio, ph=Phase)\n",
    "tiempo, SignalCua = mi_funcion_cuadrada(vmax=Amplitud, ff=frecuencia, dc=ValorMedio, duty=Duty)\n",
    "tiempo, SignalTri = mi_funcion_triangular(vmax=Amplitud, ff=frecuencia, dc=ValorMedio, width=Width)"
   ]
  },
  {
   "cell_type": "markdown",
   "metadata": {},
   "source": [
    "<p style=\"font-family: 'American Typewriter', 'Courier New', Courier, 'Lucida Sans Typewriter', 'Lucida Typewriter', monospace; font-size: 20px; font-weight: bold;\">\n",
    "    Configuración del estilo global de los gráficos:\n",
    "</p>"
   ]
  },
  {
   "cell_type": "code",
   "execution_count": 105,
   "metadata": {},
   "outputs": [],
   "source": [
    "plt.rcParams['savefig.transparent'] = True\n",
    "plt.rcParams['axes.edgecolor'] = 'gray'\n",
    "plt.rcParams['axes.labelcolor'] = 'gray'\n",
    "plt.rcParams['xtick.color'] = 'gray'\n",
    "plt.rcParams['ytick.color'] = 'gray'"
   ]
  },
  {
   "cell_type": "markdown",
   "metadata": {},
   "source": [
    "<p style=\"font-family: 'American Typewriter', 'Courier New', Courier, 'Lucida Sans Typewriter', 'Lucida Typewriter', monospace; font-size: 20px; font-weight: bold;\">\n",
    "    Generamos las imágenes y las guardamos para su posterior visualización:\n",
    "</p>"
   ]
  },
  {
   "cell_type": "code",
   "execution_count": 106,
   "metadata": {},
   "outputs": [],
   "source": [
    "plot_signal(tiempo, SignalSen, 'Señal Senoidal', color='green')\n",
    "plot_signal(tiempo, SignalCua, 'Señal Cuadrada', color='purple')\n",
    "plot_signal(tiempo, SignalTri, 'Señal Triangular', color='red')"
   ]
  },
  {
   "cell_type": "markdown",
   "metadata": {},
   "source": [
    "<div style=\"text-align: center;\">\n",
    "  <span style=\"border: 2px solid black; padding: 5px; display: inline-block; background-color: green; font-family: 'American Typewriter', 'Courier New', Courier, 'Lucida Sans Typewriter', 'Lucida Typewriter', monospace; font-size: 20px; color: #FFFFFF; font-weight: bold;\">\n",
    "    Señal Senoidal\n",
    "  </span>\n",
    "</div>\n"
   ]
  },
  {
   "cell_type": "markdown",
   "metadata": {},
   "source": [
    "<div style=\"max-width: 100%; text-align: center;\">\n",
    "  <img src=\"Señal Senoidal.png\" alt=\"Texto alternativo\" style=\"max-width: 100%;\">\n",
    "</div>"
   ]
  },
  {
   "cell_type": "markdown",
   "metadata": {},
   "source": [
    "<div style=\"text-align: center;\">\n",
    "  <span style=\"border: 2px solid black; padding: 5px; display: inline-block; background-color: purple; font-family: 'American Typewriter', 'Courier New', Courier, 'Lucida Sans Typewriter', 'Lucida Typewriter', monospace; font-size: 20px; color: #FFFFFF; font-weight: bold;\">\n",
    "    Señal Cuadrada\n",
    "  </span>\n",
    "</div>"
   ]
  },
  {
   "cell_type": "markdown",
   "metadata": {},
   "source": [
    "<div style=\"max-width: 100%; text-align: center;\">\n",
    "  <img src=\"Señal Cuadrada.png\" alt=\"Texto alternativo\" style=\"max-width: 100%;\">\n",
    "</div>"
   ]
  },
  {
   "cell_type": "markdown",
   "metadata": {},
   "source": [
    "<div style=\"text-align: center;\">\n",
    "  <span style=\"border: 2px solid #black; padding: 5px; display: inline-block; background-color: red; font-family: 'American Typewriter', 'Courier New', Courier, 'Lucida Sans Typewriter', 'Lucida Typewriter', monospace; font-size: 20px; color: #FFFFFF; font-weight: bold;\">\n",
    "    Señal Triangular\n",
    "  </span>\n",
    "</div>"
   ]
  },
  {
   "cell_type": "markdown",
   "metadata": {},
   "source": [
    "<div style=\"max-width: 100%; text-align: center;\">\n",
    "  <img src=\"Señal Triangular.png\" alt=\"Texto alternativo\" style=\"max-width: 100%;\">\n",
    "</div>"
   ]
  }
 ],
 "metadata": {
  "kernelspec": {
   "display_name": "Python 3",
   "language": "python",
   "name": "python3"
  },
  "language_info": {
   "codemirror_mode": {
    "name": "ipython",
    "version": 3
   },
   "file_extension": ".py",
   "mimetype": "text/x-python",
   "name": "python",
   "nbconvert_exporter": "python",
   "pygments_lexer": "ipython3",
   "version": "3.10.11"
  },
  "orig_nbformat": 4
 },
 "nbformat": 4,
 "nbformat_minor": 2
}
